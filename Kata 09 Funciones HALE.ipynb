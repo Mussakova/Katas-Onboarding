{
 "cells": [
  {
   "cell_type": "markdown",
   "metadata": {},
   "source": [
    "## Funciones\n",
    "\n",
    "Ejercicio 1. Función para calcular el cimbustible restante entre los 3 tanques"
   ]
  },
  {
   "cell_type": "code",
   "execution_count": null,
   "metadata": {},
   "outputs": [],
   "source": [
    "def prom_comb(tanq1, tanq2, tanq3):\n",
    "    x = round(tanq1 + tanq2 + tanq3/3, 2)\n",
    "    return f\"\"\"El combustible restante entre los tres tanques son {x} L\n",
    "    Tanque 1: {tanq1} L\n",
    "    Tanque 2: {tanq2} L\n",
    "    Tanque 3: {tanq3} L\n",
    "    \"\"\"\n",
    "\n",
    "print(prom_comb(80, 70, 85))\n",
    "\n",
    "def promedio(values):\n",
    "    total = sum(values)\n",
    "    sum_items = len(values)\n",
    "    return total / sum_items\n",
    "\n",
    "def prom_comb(tanq1, tanq2, tanq3):\n",
    "    return f\"\"\"El combustible restante entre los tres tanques son {promedio([tanq1, tanq2, tanq3])} L\n",
    "    Tanque 1: {tanq1} L\n",
    "    Tanque 2: {tanq2} L\n",
    "    Tanque 3: {tanq3} L\n",
    "    \"\"\"\n",
    "\n",
    "print(prom_comb(88, 76, 70))"
   ]
  },
  {
   "cell_type": "markdown",
   "metadata": {},
   "source": [
    "Ejercicio 2. Trabajando con argumentos de palabras clave"
   ]
  },
  {
   "cell_type": "code",
   "execution_count": 1,
   "metadata": {},
   "outputs": [
    {
     "name": "stdout",
     "output_type": "stream",
     "text": [
      "\n",
      "    Misión a La luna\n",
      "    Tiempo total de viaje: 65 minutes\n",
      "    Total de combustible restante: 500000 litros\n",
      "    \n",
      "\n",
      "    Misión a: La Luna\n",
      "    Tiempo total de viaje: 25 minutos\n",
      "    Total de combustible restante: 500000\n",
      "    \n",
      "\n",
      "    Misión a: Moon\n",
      "    Tiempo total de viaje: 74 minutos\n",
      "    Total de combustible restante: 500000\n",
      "    \n",
      "        El tanque principal contiene 300000 litros restantes\n",
      "        El tanque externo contiene 200000 litros restantes\n"
     ]
    }
   ],
   "source": [
    "def reporte(destino, prelanz, tdevuelo, tanqext, tanqint):\n",
    "    return f\"\"\"\n",
    "    Misión a {destino}\n",
    "    Tiempo total de viaje: {prelanz + tdevuelo} minutes\n",
    "    Total de combustible restante: {tanqext + tanqint} litros\n",
    "    \"\"\"\n",
    "\n",
    "print(reporte('La luna', 14, 51, 200000, 300000))\n",
    "\n",
    "def reporte(destino, *minutos, **combustible):\n",
    "    return f\"\"\"\n",
    "    Misión a: {destino}\n",
    "    Tiempo total de viaje: {sum(minutos)} minutos\n",
    "    Total de combustible restante: {sum(combustible.values())}\n",
    "    \"\"\"\n",
    "\n",
    "print(reporte('La Luna', 10, 15, interno=300000, externo=200000))\n",
    "\n",
    "def reporte(destino, *minutos, **combustible):\n",
    "    repp = f\"\"\"\n",
    "    Misión a: {destino}\n",
    "    Tiempo total de viaje: {sum(minutos)} minutos\n",
    "    Total de combustible restante: {sum(combustible.values())}\n",
    "    \"\"\"\n",
    "    for tanques, litros in combustible.items():\n",
    "        repp += f\"\"\"\n",
    "        El tanque {tanques} contiene {litros} litros restantes\"\"\"\n",
    "    return repp\n",
    "\n",
    "print(reporte(\"Moon\", 8, 11, 55, principal = 300000, externo = 200000))"
   ]
  }
 ],
 "metadata": {
  "interpreter": {
   "hash": "7fa7ebfa9c1a73d44f8d81ebc05870047e89cab9557053be59a4df745f753e1f"
  },
  "kernelspec": {
   "display_name": "Python 3.10.1 64-bit",
   "language": "python",
   "name": "python3"
  },
  "language_info": {
   "codemirror_mode": {
    "name": "ipython",
    "version": 3
   },
   "file_extension": ".py",
   "mimetype": "text/x-python",
   "name": "python",
   "nbconvert_exporter": "python",
   "pygments_lexer": "ipython3",
   "version": "3.10.1"
  },
  "orig_nbformat": 4
 },
 "nbformat": 4,
 "nbformat_minor": 2
}
