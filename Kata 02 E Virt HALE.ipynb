{
 "cells": [
  {
   "cell_type": "markdown",
   "metadata": {},
   "source": [
    "Entorno virtual"
   ]
  },
  {
   "cell_type": "markdown",
   "metadata": {},
   "source": [
    "Ejecutando todos los comandos de la documentación respectiva a la Kata 02 en la terminal de comandos, esta carpeta fue el resultado que obtuve:\n",
    "\n",
    "<img src=https://drive.google.com/file/d/1-9SWuplgORCg_cYlDLv_-eb6zubNjcat>\n",
    "\n",
    "Contiene todos los archivos que se generaron a partir de las instrucciones."
   ]
  }
 ],
 "metadata": {
  "language_info": {
   "name": "python"
  },
  "orig_nbformat": 4
 },
 "nbformat": 4,
 "nbformat_minor": 2
}
