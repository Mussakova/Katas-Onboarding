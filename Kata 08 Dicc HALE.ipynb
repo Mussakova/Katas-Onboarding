{
 "cells": [
  {
   "cell_type": "markdown",
   "metadata": {},
   "source": [
    "## Diccionarios\n",
    "Ejercicio 1 Creando un diccionario"
   ]
  },
  {
   "cell_type": "code",
   "execution_count": 2,
   "metadata": {},
   "outputs": [
    {
     "name": "stdout",
     "output_type": "stream",
     "text": [
      "El planeta es  Mars  y tiene  2  lunas\n",
      "El planeta es Mars y tiene una circunferencia polar de 6752 km y una circunferencia equatorial de 6792 km\n"
     ]
    }
   ],
   "source": [
    "planet = {\n",
    "    'name': 'Mars',\n",
    "    'moons': 2}\n",
    "\n",
    "print(f'El planeta es ', planet.get('name'), ' y tiene ', planet['moons'], ' lunas')\n",
    "\n",
    "planet['circunferencia (km)'] = {\n",
    "    'polar': 6752,\n",
    "    'equatorial': 6792\n",
    "    }\n",
    "\n",
    "print(f'El planeta es', planet.get('name'), 'y tiene una circunferencia polar de', planet['circunferencia (km)']['polar'], 'km', 'y una circunferencia equatorial de', planet['circunferencia (km)']['equatorial'], 'km')"
   ]
  },
  {
   "cell_type": "markdown",
   "metadata": {},
   "source": [
    "Ejercicio 2 Programación dinámica con diccionarios"
   ]
  },
  {
   "cell_type": "code",
   "execution_count": 1,
   "metadata": {},
   "outputs": [
    {
     "name": "stdout",
     "output_type": "stream",
     "text": [
      "El número de planetas es 12\n",
      "El número de lunas es 214\n",
      "El promedio de lunas por planeta es de 17.83\n"
     ]
    }
   ],
   "source": [
    "planet_moons = {\n",
    "    'mercury': 0,\n",
    "    'venus': 0,\n",
    "    'earth': 1,\n",
    "    'mars': 2,\n",
    "    'jupiter': 79,\n",
    "    'saturn': 82,\n",
    "    'uranus': 27,\n",
    "    'neptune': 14,\n",
    "    'pluto': 5,\n",
    "    'haumea': 2,\n",
    "    'makemake': 1,\n",
    "    'eris': 1\n",
    "}\n",
    "\n",
    "moons = planet_moons.values()\n",
    "\n",
    "planets = len(planet_moons.keys())\n",
    "\n",
    "print('El número de planetas es', planets)\n",
    "\n",
    "num_lunas = 0\n",
    "\n",
    "for i in planet_moons.values():\n",
    "    num_lunas += int(i)\n",
    "\n",
    "print('El número de lunas es', str(num_lunas))\n",
    "\n",
    "prom = round(num_lunas/planets, 2)\n",
    "\n",
    "print('El promedio de lunas por planeta es de', str(prom))\n"
   ]
  }
 ],
 "metadata": {
  "interpreter": {
   "hash": "7fa7ebfa9c1a73d44f8d81ebc05870047e89cab9557053be59a4df745f753e1f"
  },
  "kernelspec": {
   "display_name": "Python 3.10.1 64-bit",
   "language": "python",
   "name": "python3"
  },
  "language_info": {
   "codemirror_mode": {
    "name": "ipython",
    "version": 3
   },
   "file_extension": ".py",
   "mimetype": "text/x-python",
   "name": "python",
   "nbconvert_exporter": "python",
   "pygments_lexer": "ipython3",
   "version": "3.10.1"
  },
  "orig_nbformat": 4
 },
 "nbformat": 4,
 "nbformat_minor": 2
}
