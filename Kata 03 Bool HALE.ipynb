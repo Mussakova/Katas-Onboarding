{
 "cells": [
  {
   "cell_type": "markdown",
   "metadata": {},
   "source": [
    "# Calculadora #\n",
    "\n",
    "Si el parámetro se cumple se emite la alerta correspondiente"
   ]
  },
  {
   "cell_type": "code",
   "execution_count": 1,
   "metadata": {},
   "outputs": [
    {
     "name": "stdout",
     "output_type": "stream",
     "text": [
      "SISTEMA DE ALERTA PARA ASTEROIDES\n",
      "\n",
      "Un asteroide SE APROXIMA A LA TIERRA\n"
     ]
    }
   ],
   "source": [
    "print('''SISTEMA DE ALERTA PARA ASTEROIDES\n",
    "''')\n",
    "\n",
    "velocidad_asteroide = float(input('Ingresa la velocidad del asteroide en km/s: '))\n",
    "\n",
    "if velocidad_asteroide >= float(25):\n",
    "    print('Un asteroide SE APROXIMA A LA TIERRA !!')\n",
    "else:\n",
    "    print('Este asteroide no cumple los requisitos para una advertencia')\n"
   ]
  },
  {
   "cell_type": "markdown",
   "metadata": {},
   "source": [
    "# Calculadora #\n",
    "\n",
    "Tomando como parámetro los 49km/s estipulados en la Kata para emitir la alerta."
   ]
  },
  {
   "cell_type": "code",
   "execution_count": 2,
   "metadata": {},
   "outputs": [
    {
     "name": "stdout",
     "output_type": "stream",
     "text": [
      "SISTEMA DE ALERTA PARA ASTEROIDES\n",
      "\n",
      "Un asteroide SE APROXIMA A LA TIERRA !!\n"
     ]
    }
   ],
   "source": [
    "print('''SISTEMA DE ALERTA PARA ASTEROIDES\n",
    "''')\n",
    "\n",
    "#En Km/s\n",
    "velocidad_asteroide = 49 \n",
    "\n",
    "if velocidad_asteroide >= float(49):\n",
    "    print('ALERTA: Un asteroide SE APROXIMA A LA TIERRA !!')\n",
    "else:\n",
    "    print('Este asteroide no cumple los requisitos para una advertencia')\n"
   ]
  },
  {
   "cell_type": "markdown",
   "metadata": {},
   "source": [
    "# Rayo de Luz #\n",
    "Si el asteroide viaja a una velocidad mayor o igual a 20km/s se producirá un rayo de luz visible desde la tierra"
   ]
  },
  {
   "cell_type": "code",
   "execution_count": 5,
   "metadata": {},
   "outputs": [
    {
     "name": "stdout",
     "output_type": "stream",
     "text": [
      "SISTEMA DE ALERTA PARA ASTEROIDES\n",
      "\n",
      "Un asteroide se acerca a la Tierra y DEJARÁ un destello de luz que SERÁ VISIBLE !!\n"
     ]
    }
   ],
   "source": [
    "print('''SISTEMA DE ALERTA PARA ASTEROIDES\n",
    "''')\n",
    "\n",
    "velocidad_asteroide = float(input('Ingresa la velocidad del asteroide en km/s: '))\n",
    "\n",
    "if velocidad_asteroide >= float(20):\n",
    "    print('ALERTA: Un asteroide se acerca a la Tierra y DEJARÁ un destello de luz que SERÁ VISIBLE !!')\n",
    "else:\n",
    "    print('Este asteroide NO DEJARÁ un destello de luz visible desde la Tierra')\n"
   ]
  },
  {
   "cell_type": "markdown",
   "metadata": {},
   "source": [
    "# Rayo de luz #\n",
    "Tomando como parámetro únicamente el asteroide a 19km/s, dado que no se solicita un `input()`."
   ]
  },
  {
   "cell_type": "code",
   "execution_count": 7,
   "metadata": {},
   "outputs": [
    {
     "name": "stdout",
     "output_type": "stream",
     "text": [
      "SISTEMA DE ALERTA PARA ASTEROIDES\n",
      "\n",
      "¡Hay un asteroide que se dirige a la tierra a una velocidad de 19 km/s!\n"
     ]
    }
   ],
   "source": [
    "print('''SISTEMA DE ALERTA PARA ASTEROIDES\n",
    "''')\n",
    "#En km/s\n",
    "velocidad_asteroide = 19\n",
    "\n",
    "if velocidad_asteroide >= float(20):\n",
    "    print('''ALERTA: Un asteroide se acerca a la Tierra\n",
    "Busca el asteroide en el cielo ya que DEJARÁ un destello de luz que SERÁ VISIBLE !!''')\n",
    "elif velocidad_asteroide == 19:\n",
    "    print('¡Hay un asteroide que se dirige a la tierra a una velocidad de 19 km/s!')\n",
    "elif velocidad_asteroide <= 19:\n",
    "    print('Este asteroide NO DEJARÁ un destello de luz visible desde la Tierra')\n",
    "else:\n",
    "    print('No hay asteroide :)')"
   ]
  },
  {
   "cell_type": "markdown",
   "metadata": {},
   "source": [
    "# Uso de operadores `and` y `or` #\n",
    "Con input ya que no se especifica algún asteroide con velocidad determinada."
   ]
  },
  {
   "cell_type": "code",
   "execution_count": 9,
   "metadata": {},
   "outputs": [
    {
     "name": "stdout",
     "output_type": "stream",
     "text": [
      "SISTEMA DE ALERTA PARA ASTEROIDES\n",
      "\n",
      "Este asteroide probablemente se queme en su ingreso la atmósfera\n",
      "ALERTA: Un asteroide se acerca a la Tierra\n",
      "Busca el asteroide en el cielo ya que DEJARÁ un destello de luz que SERÁ VISIBLE !!\n"
     ]
    }
   ],
   "source": [
    "print('''SISTEMA DE ALERTA PARA ASTEROIDES\n",
    "''')\n",
    "#En km/s\n",
    "\n",
    "size_asteroid = float(input('Ingresa el diámetro del asteroide en metros: '))\n",
    "\n",
    "\n",
    "if size_asteroid >= 25 and size_asteroid < 1000:\n",
    "    print('Este asteroide tiene la capacidad de causar mucho daño si toca tierra. Puede destruir ciudades enteras o daños a las infraestructuras')\n",
    "elif size_asteroid < 25:\n",
    "    print('Este asteroide probablemente se queme en su ingreso la atmósfera')\n",
    "elif size_asteroid > 1000:\n",
    "    print('Daño severo a regiones geográficas, países o riesgo de extinción')\n",
    "else:\n",
    "    print('No hay asteroide')\n",
    "\n",
    "\n",
    "velocidad_asteroide = float(input('Ingresa la velocidad del asteroide en km/s: '))\n",
    "\n",
    "\n",
    "if velocidad_asteroide > 25 or 26:\n",
    "    print('ALERTA: Un asteroide se acerca a la Tierra')\n",
    "if velocidad_asteroide >= 20:\n",
    "    print('Busca el asteroide en el cielo ya que DEJARÁ un destello de luz que SERÁ VISIBLE !!')\n",
    "elif velocidad_asteroide <= 19:\n",
    "    print('Este asteroide NO DEJARÁ un destello de luz visible desde la Tierra')\n",
    "else:\n",
    "    print('No hay asteroide :)')"
   ]
  }
 ],
 "metadata": {
  "interpreter": {
   "hash": "7fa7ebfa9c1a73d44f8d81ebc05870047e89cab9557053be59a4df745f753e1f"
  },
  "kernelspec": {
   "display_name": "Python 3.10.1 64-bit",
   "language": "python",
   "name": "python3"
  },
  "language_info": {
   "codemirror_mode": {
    "name": "ipython",
    "version": 3
   },
   "file_extension": ".py",
   "mimetype": "text/x-python",
   "name": "python",
   "nbconvert_exporter": "python",
   "pygments_lexer": "ipython3",
   "version": "3.10.1"
  },
  "orig_nbformat": 4
 },
 "nbformat": 4,
 "nbformat_minor": 2
}
