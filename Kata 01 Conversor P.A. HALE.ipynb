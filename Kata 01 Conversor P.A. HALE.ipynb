{
 "cells": [
  {
   "cell_type": "markdown",
   "metadata": {},
   "source": [
    "# Obteniendo la fecha #\n",
    "\n",
    "Del módulo 'datetime' importamos la clase 'date'.\n",
    "\n",
    "Después, declaramos 'date' con su método 'today' y sus paréntesis sin párametros.\n",
    "\n",
    "Ahora este objeto 'date.today()', se convierte a string dentro de la misma linea del 'print' para poder concatenarlo y listo."
   ]
  },
  {
   "cell_type": "code",
   "execution_count": 13,
   "metadata": {},
   "outputs": [
    {
     "name": "stdout",
     "output_type": "stream",
     "text": [
      "La fecha de hoy es: 2022-02-11\n"
     ]
    }
   ],
   "source": [
    "from datetime import date\n",
    "date.today()\n",
    "print('La fecha de hoy es: ' + str(date.today()))"
   ]
  },
  {
   "cell_type": "markdown",
   "metadata": {},
   "source": [
    "# Convertimos Parsecs a Años luz y viceversa #\n",
    "\n",
    "Tomando en cuenta que 1 parsec es 3.26156 años luz"
   ]
  },
  {
   "cell_type": "code",
   "execution_count": 2,
   "metadata": {},
   "outputs": [
    {
     "name": "stdout",
     "output_type": "stream",
     "text": [
      "Bienvenido Viajero !! :)\n",
      "\n",
      "Este es un programa que convertirá Parsecs a Años Luz y vicerversa...\n",
      "\n",
      "Opciones Disponibles:\n",
      "\n",
      "1 = Años Luz a Parsecs\n",
      "2 = Parsecs a Años Luz\n",
      "\n",
      "\n",
      "2 Parsecs equivalen a 6.52312 Años luz.\n",
      "Adios Viajero n.n\n"
     ]
    }
   ],
   "source": [
    "print(\"\"\"Bienvenido Viajero !! :)\n",
    "\n",
    "Este es un programa que convertirá Parsecs a Años Luz y vicerversa...\n",
    "\n",
    "Opciones Disponibles:\n",
    "\n",
    "1 = Años Luz a Parsecs\n",
    "2 = Parsecs a Años Luz\n",
    "\n",
    "\"\"\")\n",
    "\n",
    "#1 Año luz a parsec\n",
    "AÑO = 0.306601\n",
    "#1 Parsec a año Luz\n",
    "PARS = 3.26156\n",
    "\n",
    "respuesta = input('Porfavor, ingresa el Número de la opción que deseas: ')\n",
    "\n",
    "while (respuesta != '1') and (respuesta != '2'):\n",
    "    print('Ha escrito una entrada incorrecta')\n",
    "    respuesta = input('Porfavor, ingresa el Número de la opción que deseas: ')\n",
    "    continue\n",
    "\n",
    "# Método de solución 1\n",
    "\n",
    "\n",
    "# if respuesta == '1':\n",
    "#     luz = input('Ingresa la cantidad de Años Luz: ')\n",
    "#     opcion1 = float(luz) * AÑO\n",
    "#     opcion1_round = round((opcion1), 5)\n",
    "#     print(luz + ' años luz equivalen a ' + str(opcion1_round) + ' parsecs')\n",
    "\n",
    "# if respuesta == '2':\n",
    "#     parsecs = input('Ingresa la cantidad de Parsecs: ')\n",
    "#     opcion2 = float(parsecs) * PARS\n",
    "#     opcion2_round = round((opcion2), 5)\n",
    "#     print(parsecs + ' parsecs equivalen a ' + str(opcion2_round) + ' años luz')\n",
    "\n",
    "\n",
    "#Método 2 a través de una función\n",
    "\n",
    "def calc(equivalencia, magn_entrada, magn_salida):\n",
    "    longitud = input('Ingresa la cantidad de' + magn_entrada +': ')\n",
    "    resultado = round((float(longitud) * equivalencia), 5)\n",
    "    print(str(longitud) + magn_entrada + 'equivalen a ' + str(resultado) + magn_salida)\n",
    "\n",
    "if respuesta == '1':\n",
    "    calc( 0.306601, ' Años luz ', ' Parsecs.' )\n",
    "if respuesta == '2':\n",
    "    calc( 3.26156, ' Parsecs ',  ' Años luz.')\n",
    "\n",
    "#\n",
    "print('Adios Viajero n.n')"
   ]
  }
 ],
 "metadata": {
  "interpreter": {
   "hash": "7fa7ebfa9c1a73d44f8d81ebc05870047e89cab9557053be59a4df745f753e1f"
  },
  "kernelspec": {
   "display_name": "Python 3.10.1 64-bit",
   "language": "python",
   "name": "python3"
  },
  "language_info": {
   "codemirror_mode": {
    "name": "ipython",
    "version": 3
   },
   "file_extension": ".py",
   "mimetype": "text/x-python",
   "name": "python",
   "nbconvert_exporter": "python",
   "pygments_lexer": "ipython3",
   "version": "3.10.1"
  },
  "orig_nbformat": 4
 },
 "nbformat": 4,
 "nbformat_minor": 2
}
