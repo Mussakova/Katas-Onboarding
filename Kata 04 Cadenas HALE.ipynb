{
 "cells": [
  {
   "cell_type": "markdown",
   "metadata": {},
   "source": [
    "## Ejercicio 1: Transformar cadenas"
   ]
  },
  {
   "cell_type": "code",
   "execution_count": 6,
   "metadata": {},
   "outputs": [
    {
     "name": "stdout",
     "output_type": "stream",
     "text": [
      "\n",
      " Ejercicio: División de la cadena\n",
      "\n",
      "['Interesting', 'facts', 'about', 'the', 'Moon.', 'The', 'Moon', 'is', \"Earth's\", 'only', 'satellite.', 'There', 'are', 'several', 'interesting', 'facts', 'about', 'the', 'Moon', 'and', 'how', 'it', 'affects', 'life', 'here', 'on', 'Earth.', '\",', '\"On', 'average,', 'the', 'Moon', 'moves', '4cm', 'away', 'from', 'the', 'Earth', 'every', 'year.', 'This', 'yearly', 'drift', 'is', 'not', 'significant', 'enough', 'to', 'cause', 'immediate', 'effects', 'on', 'Earth.', 'The', 'highest', 'daylight', 'temperature', 'of', 'the', 'Moon', 'is', '127', 'C.']\n",
      "\n",
      " Ejercicio: Encontrar las palabras \"average\", \"temperature\" y \"distance\"\n",
      "\n",
      "Hay 1 palabras que se llamen \"average\" en la cadena de texto\n",
      "Hay 1 palabras que se llamen \"temperature\" en la cadena de texto\n",
      "Hay 0 palabras que se llamen \"distance\" en la cadena de texto\n",
      "Ejercicio: recorrer la cadena con for \n",
      "\n",
      "Existe la palabra clave average relacionada con la luna\n",
      "Existe la palabra clave temperature relacionada con la luna\n",
      "\n",
      "Ejercicio: Ciclo para cambiar C por Celsius\n",
      "\n",
      "Interesting facts about the Moon. The Moon is Earth's only satellite. There are several interesting facts about the Moon and how it affects life here on Earth. \n",
      "\",\n",
      "        \"On average, the Moon moves 4cm away from the Earth every year. This yearly drift is not significant enough to cause immediate effects on Earth. The highest daylight temperature of the Moon is 127 Celsius.\n"
     ]
    }
   ],
   "source": [
    "text = \"\"\"Interesting facts about the Moon. The Moon is Earth's only satellite. There are several interesting facts about the Moon and how it affects life here on Earth. \\n\",\n",
    "        \"On average, the Moon moves 4cm away from the Earth every year. This yearly drift is not significant enough to cause immediate effects on Earth. The highest daylight temperature of the Moon is 127 C.\"\"\"\n",
    "\n",
    "\n",
    "#DIVISIÓN\n",
    "print('\\n Ejercicio: División de la cadena' '\\n')\n",
    "division = text.split()\n",
    "print(division)\n",
    "\n",
    "\n",
    "#Encontrar la palabra\n",
    "print('\\n Ejercicio: Encontrar las palabras \"average\", \"temperature\" y \"distance\"\\n')\n",
    "\n",
    "findl = text.lower()\n",
    "\n",
    "def find(a):\n",
    "    x = findl.count(a)\n",
    "    print('Hay ' + str(x) + ' palabras que se llamen \"' + str(a) + '\" en la cadena de texto')\n",
    "\n",
    "find('average')\n",
    "find('temperature')\n",
    "find('distance')\n",
    "\n",
    "\n",
    "\n",
    "# Ciclo for para recorrer la cadena\n",
    "#En este ejercicio no entendí muy bien lo que debía hacerse\n",
    "\n",
    "print('Ejercicio: recorrer la cadena con for \\n')\n",
    "\n",
    "keyw = ['average', 'temperature', 'distance']\n",
    "\n",
    "for i in findl:\n",
    "    for j in keyw:\n",
    "        if 'moon' in findl:\n",
    "            if j in findl:\n",
    "                print('Existe la palabra clave ' + j + ' relacionada con la luna')\n",
    "    break\n",
    "\n",
    "\n",
    "#Ejercicio crear un ciclo para cambiar C por Celsius.\n",
    "\n",
    "print('\\nEjercicio: Ciclo para cambiar C por Celsius\\n')\n",
    "\n",
    "for i in text.split():\n",
    "    x = text.replace('C', 'Celsius')\n",
    "    print(x)\n",
    "    break\n"
   ]
  },
  {
   "cell_type": "markdown",
   "metadata": {},
   "source": [
    "## Ejercicio 2 Formateando Cadenas"
   ]
  },
  {
   "cell_type": "code",
   "execution_count": 7,
   "metadata": {},
   "outputs": [
    {
     "name": "stdout",
     "output_type": "stream",
     "text": [
      "\n",
      "Facts About Moon\n",
      "\n",
      "Planet Name: Earth\n",
      "Gravity on: Moon = 1.62 m/s^2\n",
      "\n",
      "\n",
      "\n",
      "Datos de Gravedad sobre: Ganímedes\n",
      "-------------------------------------------------------------------------------\n",
      "Nombre del planeta: Mars\n",
      "Gravedad en Ganímedes: 1.43 m/s2\n",
      "\n"
     ]
    }
   ],
   "source": [
    "# Datos con los que vas a trabajar\n",
    "\n",
    "name = \"Moon\"\n",
    "gravity = 0.00162 # in kms\n",
    "planet = \"Earth\"\n",
    "\n",
    "#Ejercicio crear el Título\n",
    "# print('\\nEjercicio crear el Título\\n')\n",
    "\n",
    "title = f'\\nfacts about {name}\\n'.title()\n",
    "# print(title)\n",
    "\n",
    "#Creación de la plantilla\n",
    "# print('\\nEjercicio: Crear la Plantilla\\n')\n",
    "\n",
    "template = f\"\"\"\n",
    "Planet Name: {planet}\n",
    "Gravity on: {name} = {round((gravity * 1000), 4)} m/s^2\n",
    "\\n\"\"\"\n",
    "# print(template)\n",
    "# print('\\nEjercicio: Unir todo\\n')\n",
    "\n",
    "moonvrs = title + template\n",
    "\n",
    "print(moonvrs)\n",
    "\n",
    "\n",
    "planeta = 'Marte '\n",
    "gravedad  = 0.00143\n",
    "nombre = 'Ganímedes'\n",
    "\n",
    "new_template = \"\"\"\n",
    "Datos de Gravedad sobre: {nombre}\n",
    "-------------------------------------------------------------------------------\n",
    "Nombre del planeta: {planeta}\n",
    "Gravedad en {nombre}: {gravedad} m/s2\n",
    "\"\"\"\n",
    "print(new_template.format(nombre = 'Ganímedes', planeta='Mars', gravedad = round(0.00143*1000, 4)))\n",
    "#Este ejercicio lo hice a medida que leía los problemas\n",
    "# def lunas(nombre, gravedad, planeta):\n",
    "#     #Ejercicio crear el Título\n",
    "\n",
    "#     #print('\\nEjercicio crear el Título\\n')\n",
    "\n",
    "#     title = f'\\nfacts about {nombre}\\n'.title()\n",
    "\n",
    "#     #Creación de la plantilla\n",
    "#     #print('\\nEjercicio: Crear la Plantilla\\n')\n",
    "\n",
    "#     template = f\"\"\"\\n\n",
    "#     Planet Name: {planeta}\n",
    "#     Gravity on: {nombre} = {round((gravedad * 1000), 4)} m/s^2\n",
    "#     \"\"\"\n",
    "\n",
    "#     #print('\\nEjercicio: Unir todo\\n')\n",
    "\n",
    "#     vfin = title + template\n",
    "\n",
    "#     print(vfin)\n",
    "\n",
    "# lunas('Moon', 0.00162, 'Earth')\n",
    "# lunas('Ganymedes', 0.00143, 'Mars')\n"
   ]
  }
 ],
 "metadata": {
  "interpreter": {
   "hash": "7fa7ebfa9c1a73d44f8d81ebc05870047e89cab9557053be59a4df745f753e1f"
  },
  "kernelspec": {
   "display_name": "Python 3.10.1 64-bit",
   "language": "python",
   "name": "python3"
  },
  "language_info": {
   "codemirror_mode": {
    "name": "ipython",
    "version": 3
   },
   "file_extension": ".py",
   "mimetype": "text/x-python",
   "name": "python",
   "nbconvert_exporter": "python",
   "pygments_lexer": "ipython3",
   "version": "3.10.1"
  },
  "orig_nbformat": 4
 },
 "nbformat": 4,
 "nbformat_minor": 2
}
