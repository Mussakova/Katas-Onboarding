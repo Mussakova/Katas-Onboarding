{
 "cells": [
  {
   "cell_type": "markdown",
   "metadata": {},
   "source": [
    "## Operaciones Matemáticas\n",
    "\n",
    "Ejercicio 1"
   ]
  },
  {
   "cell_type": "code",
   "execution_count": 8,
   "metadata": {},
   "outputs": [
    {
     "name": "stdout",
     "output_type": "stream",
     "text": [
      "Distancia en km: 628949330\n",
      "Distancia en millas: 390577533.93\n"
     ]
    }
   ],
   "source": [
    "#distancias en km\n",
    "\n",
    "dsitancia_t = 149597870 \n",
    "distancia_j = 778547200\n",
    "\n",
    "dist_t_j = distancia_j - dsitancia_t\n",
    "print(f'Distancia en km: {str(dist_t_j)}')\n",
    "\n",
    "dist_t_j_in_milles = dist_t_j * 0.621\n",
    "print(f'Distancia en millas: {str(dist_t_j_in_milles)}')"
   ]
  },
  {
   "cell_type": "markdown",
   "metadata": {},
   "source": [
    "Ejercicio 2 Cadena a Enteros y valores absolutos"
   ]
  },
  {
   "cell_type": "code",
   "execution_count": 5,
   "metadata": {},
   "outputs": [
    {
     "name": "stdout",
     "output_type": "stream",
     "text": [
      "La distancia en km entre los 2 planetas es de 6222 km\n",
      "La distancia en millas entre los 2 planetas es de 3863.862 millas\n"
     ]
    }
   ],
   "source": [
    "ent_1 = int(input('Ingresa la distancia del primer planeta en km: '))\n",
    "ent_2 = int(input('Ingresa la distancia del segundo planeta en km: '))\n",
    "\n",
    "res = abs(ent_1 - ent_2)\n",
    "print(f'La distancia en km entre los 2 planetas es de {str(res)} km')\n",
    "print(f'La distancia en millas entre los 2 planetas es de {str(res * 0.621)} millas')"
   ]
  }
 ],
 "metadata": {
  "interpreter": {
   "hash": "7fa7ebfa9c1a73d44f8d81ebc05870047e89cab9557053be59a4df745f753e1f"
  },
  "kernelspec": {
   "display_name": "Python 3.10.1 64-bit",
   "language": "python",
   "name": "python3"
  },
  "language_info": {
   "codemirror_mode": {
    "name": "ipython",
    "version": 3
   },
   "file_extension": ".py",
   "mimetype": "text/x-python",
   "name": "python",
   "nbconvert_exporter": "python",
   "pygments_lexer": "ipython3",
   "version": "3.10.1"
  },
  "orig_nbformat": 4
 },
 "nbformat": 4,
 "nbformat_minor": 2
}
