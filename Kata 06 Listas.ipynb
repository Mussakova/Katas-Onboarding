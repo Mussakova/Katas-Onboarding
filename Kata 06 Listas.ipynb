{
 "cells": [
  {
   "cell_type": "markdown",
   "metadata": {},
   "source": [
    "## Listas\n",
    "Ejercicio 1. Crear y usar listas de Pytohn"
   ]
  },
  {
   "cell_type": "code",
   "execution_count": 5,
   "metadata": {},
   "outputs": [
    {
     "name": "stdout",
     "output_type": "stream",
     "text": [
      "['Mercury', 'Venus', 'Earth', 'Mars', 'Jupiter', 'Saturn', 'Uranus', 'Neptune'] \n",
      "\n",
      "There are 8 planets \n",
      "\n",
      "['Mercury', 'Venus', 'Earth', 'Mars', 'Jupiter', 'Saturn', 'Uranus', 'Neptune', 'Pluto'] \n",
      "\n",
      "Pluto is the last planet\n"
     ]
    }
   ],
   "source": [
    "planets = ['Mercury', 'Venus', 'Earth', 'Mars', 'Jupiter', 'Saturn', 'Uranus', 'Neptune']\n",
    "\n",
    "print(planets, '\\n')\n",
    "print('There are', len(planets), 'planets \\n')\n",
    "\n",
    "planets.append('Pluto')\n",
    "\n",
    "print(planets, '\\n')\n",
    "print(planets[-1], 'is the last planet')"
   ]
  },
  {
   "cell_type": "markdown",
   "metadata": {},
   "source": [
    "Ejercicio 2. Trabajando con datos de una lista"
   ]
  },
  {
   "cell_type": "code",
   "execution_count": null,
   "metadata": {},
   "outputs": [],
   "source": [
    "planets = ['Mercurio', 'Venus', 'Tierra', 'Marte', 'Jupiter', 'Saturno', 'Urano', 'Neptuno']\n",
    "\n",
    "ent_pla = input('Ingresa el nombre de un Planeta con la PRIMERA letra MAYÚSCULA: ')\n",
    "\n",
    "indice = planets.index(ent_pla)\n",
    "\n",
    "print('Aquí están los planetas mas cercanos al sol respecto a ' + ent_pla)\n",
    "print(planets[0:indice])\n",
    "\n",
    "print('Aquí están los planetas mas lejanos al sol respecto a ' + ent_pla)\n",
    "print(planets[indice + 1:])"
   ]
  }
 ],
 "metadata": {
  "interpreter": {
   "hash": "7fa7ebfa9c1a73d44f8d81ebc05870047e89cab9557053be59a4df745f753e1f"
  },
  "kernelspec": {
   "display_name": "Python 3.10.1 64-bit",
   "language": "python",
   "name": "python3"
  },
  "language_info": {
   "codemirror_mode": {
    "name": "ipython",
    "version": 3
   },
   "file_extension": ".py",
   "mimetype": "text/x-python",
   "name": "python",
   "nbconvert_exporter": "python",
   "pygments_lexer": "ipython3",
   "version": "3.10.1"
  },
  "orig_nbformat": 4
 },
 "nbformat": 4,
 "nbformat_minor": 2
}
